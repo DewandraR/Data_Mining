{
 "cells": [
  {
   "cell_type": "code",
   "execution_count": 1,
   "metadata": {},
   "outputs": [],
   "source": [
    "import numpy as np\n",
    "import matplotlib.pyplot as plt\n",
    "import pandas as pd"
   ]
  },
  {
   "cell_type": "code",
   "execution_count": 15,
   "metadata": {},
   "outputs": [],
   "source": [
    "dataset = pd.read_csv('50_Startups_dataset.csv')\n",
    "X = dataset.iloc[:, :-1].values\n",
    "y = dataset.iloc[:, -1].values"
   ]
  },
  {
   "cell_type": "code",
   "execution_count": 16,
   "metadata": {},
   "outputs": [
    {
     "name": "stdout",
     "output_type": "stream",
     "text": [
      "[[0 165349.30000000002 136897.9 471784.2 'New York']\n",
      " [1 162597.80000000002 151377.69 443898.63 'California']\n",
      " [2 153441.61000000002 101145.65 407934.64 'Florida']\n",
      " [3 144372.51 118671.95 383199.72 'New York']\n",
      " [4 142107.44 91391.87 366168.52 'Florida']\n",
      " [5 131877.0 99814.81 362861.46 'New York']\n",
      " [6 134615.56 147198.97 127716.92 'California']\n",
      " [7 130298.23 145530.16 323876.78 'Florida']\n",
      " [8 120542.62 148719.05000000002 311613.39 'New York']\n",
      " [9 123334.98 108679.27 304981.72 'California']\n",
      " [10 101913.18 110594.21 229161.05 'Florida']\n",
      " [11 100672.06 91790.71 249744.65 'California']\n",
      " [12 93863.85 127320.48 249839.54 'Florida']\n",
      " [13 91992.49 135495.17 252665.03 'California']\n",
      " [14 119943.34 156547.52000000002 256513.02 'Florida']\n",
      " [15 114523.71 122616.94 261776.33 'New York']\n",
      " [16 78013.21 121597.65 264346.16 'California']\n",
      " [17 94657.26 145077.68 282574.41 'New York']\n",
      " [18 91749.26 114175.89 294919.67 'Florida']\n",
      " [19 86419.8 153514.21 0.1 'New York']\n",
      " [20 76253.96 113867.4 298664.56999999995 'California']\n",
      " [21 78389.57 153773.53 299737.39 'New York']\n",
      " [22 73994.66 122782.85 303319.36 'Florida']\n",
      " [23 67532.63 105751.13 304768.83 'Florida']\n",
      " [24 77044.11 99281.44 140574.91 'New York']\n",
      " [25 64664.81 139553.26 137962.72 'California']\n",
      " [26 75328.97 144136.08000000002 134050.17 'Florida']\n",
      " [27 72107.70000000001 127864.65 353183.91 'New York']\n",
      " [28 66051.62000000001 182645.66 118148.3 'Florida']\n",
      " [29 65605.58 153032.16 107138.48 'New York']\n",
      " [30 61994.58 115641.38 91131.34 'Florida']\n",
      " [31 61136.48 152702.02000000002 88218.33 'New York']\n",
      " [32 63408.96 129219.71 46085.35 'California']\n",
      " [33 55494.05 103057.59 214634.91 'Florida']\n",
      " [34 46426.17 157694.02000000002 210797.77 'California']\n",
      " [35 46014.12 85047.54000000001 205517.74 'New York']\n",
      " [36 28663.86 127056.31 201126.92 'Florida']\n",
      " [37 44070.05 51283.24 197029.52 'California']\n",
      " [38 20229.69 65948.03 185265.2 'New York']\n",
      " [39 38558.61 82982.19 174999.4 'California']\n",
      " [40 28754.43 118546.15 172795.77000000002 'California']\n",
      " [41 27893.02 84710.87000000001 164470.81 'Florida']\n",
      " [42 23641.03 96189.73 148001.21 'California']\n",
      " [43 15505.83 127382.4 35534.27 'New York']\n",
      " [44 22177.84 154806.24000000002 28334.82 'California']\n",
      " [45 1000.33 124153.14 1904.03 'New York']\n",
      " [46 1315.56 115816.31 297114.56 'Florida']\n",
      " [47 0.1 135427.02000000002 0.1 'California']\n",
      " [48 542.15 51743.25 0.1 'New York']\n",
      " [49 0.1 116983.9 45173.16 'California']]\n"
     ]
    }
   ],
   "source": [
    "print(X)"
   ]
  },
  {
   "cell_type": "code",
   "execution_count": 19,
   "metadata": {},
   "outputs": [],
   "source": [
    "from sklearn.compose import ColumnTransformer\n",
    "from sklearn.preprocessing import OneHotEncoder\n",
    "ct = ColumnTransformer(transformers=[('encoder', OneHotEncoder(handle_unknown='ignore'), [3])], remainder='drop')\n",
    "X = np.array(ct.fit_transform(X))\n"
   ]
  },
  {
   "cell_type": "code",
   "execution_count": 20,
   "metadata": {},
   "outputs": [
    {
     "name": "stdout",
     "output_type": "stream",
     "text": [
      "  (0, 47)\t1.0\n",
      "  (1, 46)\t1.0\n",
      "  (2, 45)\t1.0\n",
      "  (3, 44)\t1.0\n",
      "  (4, 43)\t1.0\n",
      "  (5, 42)\t1.0\n",
      "  (6, 10)\t1.0\n",
      "  (7, 40)\t1.0\n",
      "  (8, 39)\t1.0\n",
      "  (9, 38)\t1.0\n",
      "  (10, 24)\t1.0\n",
      "  (11, 25)\t1.0\n",
      "  (12, 26)\t1.0\n",
      "  (13, 27)\t1.0\n",
      "  (14, 28)\t1.0\n",
      "  (15, 29)\t1.0\n",
      "  (16, 30)\t1.0\n",
      "  (17, 31)\t1.0\n",
      "  (18, 32)\t1.0\n",
      "  (19, 0)\t1.0\n",
      "  (20, 34)\t1.0\n",
      "  (21, 35)\t1.0\n",
      "  (22, 36)\t1.0\n",
      "  (23, 37)\t1.0\n",
      "  (24, 13)\t1.0\n",
      "  (25, 12)\t1.0\n",
      "  (26, 11)\t1.0\n",
      "  (27, 41)\t1.0\n",
      "  (28, 9)\t1.0\n",
      "  (29, 8)\t1.0\n",
      "  (30, 7)\t1.0\n",
      "  (31, 6)\t1.0\n",
      "  (32, 5)\t1.0\n",
      "  (33, 23)\t1.0\n",
      "  (34, 22)\t1.0\n",
      "  (35, 21)\t1.0\n",
      "  (36, 20)\t1.0\n",
      "  (37, 19)\t1.0\n",
      "  (38, 18)\t1.0\n",
      "  (39, 17)\t1.0\n",
      "  (40, 16)\t1.0\n",
      "  (41, 15)\t1.0\n",
      "  (42, 14)\t1.0\n",
      "  (43, 3)\t1.0\n",
      "  (44, 2)\t1.0\n",
      "  (45, 1)\t1.0\n",
      "  (46, 33)\t1.0\n",
      "  (47, 0)\t1.0\n",
      "  (48, 0)\t1.0\n",
      "  (49, 4)\t1.0\n"
     ]
    }
   ],
   "source": [
    "print(X)"
   ]
  },
  {
   "cell_type": "code",
   "execution_count": 24,
   "metadata": {},
   "outputs": [],
   "source": [
    "from sklearn.model_selection import train_test_split\n",
    "X = X.item() # extract sparse matrix from singleton array\n",
    "X = X.toarray() # convert sparse matrix to dense array\n",
    "X_train, X_test, y_train, y_test = train_test_split(X, y, test_size = 0.2, random_state = 0)\n"
   ]
  },
  {
   "cell_type": "code",
   "execution_count": 25,
   "metadata": {},
   "outputs": [
    {
     "data": {
      "text/plain": [
       "LinearRegression()"
      ]
     },
     "execution_count": 25,
     "metadata": {},
     "output_type": "execute_result"
    }
   ],
   "source": [
    "from sklearn.linear_model import LinearRegression\n",
    "regressor = LinearRegression()\n",
    "regressor.fit(X_train, y_train)"
   ]
  },
  {
   "cell_type": "code",
   "execution_count": 26,
   "metadata": {},
   "outputs": [
    {
     "name": "stdout",
     "output_type": "stream",
     "text": [
      "[[111680.4  103282.48]\n",
      " [111680.4  144259.5 ]\n",
      " [111680.4  146122.05]\n",
      " [111680.4   77798.93]\n",
      " [111680.4  191050.49]\n",
      " [111680.4  105008.41]\n",
      " [111680.4   81229.16]\n",
      " [111680.4   97483.66]\n",
      " [111680.4  110352.35]\n",
      " [111680.4  166188.04]]\n"
     ]
    }
   ],
   "source": [
    "y_pred = regressor.predict(X_test)\n",
    "np.set_printoptions(precision=2)\n",
    "print(np.concatenate((y_pred.reshape(len(y_pred),1), y_test.reshape(len(y_test),1)),1))"
   ]
  }
 ],
 "metadata": {
  "kernelspec": {
   "display_name": "base",
   "language": "python",
   "name": "python3"
  },
  "language_info": {
   "codemirror_mode": {
    "name": "ipython",
    "version": 3
   },
   "file_extension": ".py",
   "mimetype": "text/x-python",
   "name": "python",
   "nbconvert_exporter": "python",
   "pygments_lexer": "ipython3",
   "version": "3.9.13"
  },
  "orig_nbformat": 4
 },
 "nbformat": 4,
 "nbformat_minor": 2
}
