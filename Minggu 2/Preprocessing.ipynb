{
 "cells": [
  {
   "cell_type": "code",
   "execution_count": 20,
   "metadata": {},
   "outputs": [],
   "source": [
    "import numpy as np\n",
    "import matplotlib.pyplot as plt\n",
    "import pandas as pd"
   ]
  },
  {
   "cell_type": "code",
   "execution_count": 21,
   "metadata": {},
   "outputs": [],
   "source": [
    "dataset = pd.read_csv('csgo_steam_reviews.csv')\n",
    "x = dataset.iloc[:, :-1].values\n",
    "y = dataset.iloc[:, -1].values"
   ]
  },
  {
   "cell_type": "code",
   "execution_count": 22,
   "metadata": {},
   "outputs": [
    {
     "name": "stdout",
     "output_type": "stream",
     "text": [
      "[[133848242 'english'\n",
      "  \"Pretty good game all around.\\nGreat game! I would recommend 10 and up because there is some blood but if you don't mind a splatter or two then you should be good.\"\n",
      "  ... 44277 1075 44277]\n",
      " [133848123 'english' 'haha smiriva me\\n' ... 2169 2169 2169]\n",
      " [133848052 'english' 'full of cheaterts roblox has better anti cheat'\n",
      "  ... 15619 1976 15603]\n",
      " ...\n",
      " [131858525 'english' 'Yes.' ... 24054 325 23256]\n",
      " [131858289 'english' 'click head nothing happen' ... 9097 250 8242]\n",
      " [131858148 'english' 'good' ... 63228 10 62434]]\n"
     ]
    }
   ],
   "source": [
    "print(x)"
   ]
  },
  {
   "cell_type": "code",
   "execution_count": 23,
   "metadata": {},
   "outputs": [
    {
     "name": "stdout",
     "output_type": "stream",
     "text": [
      "['2023-03-01 09:04:32' '2023-03-01 09:16:29' '2023-03-01 09:15:00' ...\n",
      " '2023-02-27 21:32:04' '2023-02-28 16:06:13' '2023-02-19 18:36:17']\n"
     ]
    }
   ],
   "source": [
    "print(y)"
   ]
  },
  {
   "cell_type": "code",
   "execution_count": 24,
   "metadata": {},
   "outputs": [],
   "source": [
    "from sklearn.impute import SimpleImputer\n",
    "imputer = SimpleImputer(missing_values=np.nan, strategy='most_frequent')\n",
    "imputer.fit(x[:, 1:3])\n",
    "x[:, 1:3] = imputer.transform(x[:, 1:3])"
   ]
  },
  {
   "cell_type": "code",
   "execution_count": 25,
   "metadata": {},
   "outputs": [
    {
     "name": "stdout",
     "output_type": "stream",
     "text": [
      "[[133848242 'english'\n",
      "  \"Pretty good game all around.\\nGreat game! I would recommend 10 and up because there is some blood but if you don't mind a splatter or two then you should be good.\"\n",
      "  ... 44277 1075 44277]\n",
      " [133848123 'english' 'haha smiriva me\\n' ... 2169 2169 2169]\n",
      " [133848052 'english' 'full of cheaterts roblox has better anti cheat'\n",
      "  ... 15619 1976 15603]\n",
      " ...\n",
      " [131858525 'english' 'Yes.' ... 24054 325 23256]\n",
      " [131858289 'english' 'click head nothing happen' ... 9097 250 8242]\n",
      " [131858148 'english' 'good' ... 63228 10 62434]]\n"
     ]
    }
   ],
   "source": [
    "print(x)"
   ]
  },
  {
   "cell_type": "code",
   "execution_count": 34,
   "metadata": {},
   "outputs": [],
   "source": [
    "from sklearn.compose import ColumnTransformer\n",
    "from sklearn.preprocessing import OneHotEncoder\n",
    "ct = ColumnTransformer(transformers=[('encoder', OneHotEncoder(sparse=False), [0])], remainder='passthrough')\n",
    "x = np.array(ct.fit_transform(x))"
   ]
  },
  {
   "cell_type": "code",
   "execution_count": null,
   "metadata": {},
   "outputs": [
    {
     "name": "stdout",
     "output_type": "stream",
     "text": [
      "[[0.0 0.0 0.0 ... 44277 1075 44277]\n",
      " [0.0 0.0 0.0 ... 2169 2169 2169]\n",
      " [0.0 0.0 0.0 ... 15619 1976 15603]\n",
      " ...\n",
      " [0.0 0.0 1.0 ... 24054 325 23256]\n",
      " [0.0 1.0 0.0 ... 9097 250 8242]\n",
      " [1.0 0.0 0.0 ... 63228 10 62434]]\n"
     ]
    }
   ],
   "source": [
    "print(x)"
   ]
  },
  {
   "cell_type": "code",
   "execution_count": null,
   "metadata": {},
   "outputs": [],
   "source": [
    "from sklearn.preprocessing import LabelEncoder\n",
    "le = LabelEncoder()\n",
    "y = le.fit_transform(y)"
   ]
  },
  {
   "cell_type": "code",
   "execution_count": null,
   "metadata": {},
   "outputs": [
    {
     "name": "stdout",
     "output_type": "stream",
     "text": [
      "[14717 14884 14864 ...  7921  9370  2847]\n"
     ]
    }
   ],
   "source": [
    "print(y)"
   ]
  },
  {
   "cell_type": "code",
   "execution_count": null,
   "metadata": {},
   "outputs": [],
   "source": [
    "from sklearn.model_selection import train_test_split\n",
    "x_train, x_test, y_train, y_test = train_test_split(x, y, test_size=0.2, random_state=1)"
   ]
  },
  {
   "cell_type": "code",
   "execution_count": null,
   "metadata": {},
   "outputs": [
    {
     "name": "stdout",
     "output_type": "stream",
     "text": [
      "[[0.0 0.0 0.0 ... 48484 1887 46786]\n",
      " [0.0 0.0 0.0 ... 6289 0 5964]\n",
      " [0.0 0.0 0.0 ... 31789 1539 29784]\n",
      " ...\n",
      " [0.0 0.0 0.0 ... 7853 888 4668]\n",
      " [0.0 0.0 0.0 ... 129595 1749 129486]\n",
      " [0.0 0.0 0.0 ... 3986 1484 1222]]\n"
     ]
    }
   ],
   "source": [
    "print(x_train)"
   ]
  },
  {
   "cell_type": "code",
   "execution_count": null,
   "metadata": {},
   "outputs": [
    {
     "name": "stdout",
     "output_type": "stream",
     "text": [
      "[[0.0 0.0 0.0 ... 5241 545 1699]\n",
      " [0.0 0.0 0.0 ... 58713 846 58172]\n",
      " [0.0 0.0 0.0 ... 1636 636 1275]\n",
      " ...\n",
      " [0.0 0.0 0.0 ... 2082 499 810]\n",
      " [0.0 0.0 0.0 ... 24248 193 24055]\n",
      " [0.0 0.0 0.0 ... 39973 0 39973]]\n"
     ]
    }
   ],
   "source": [
    "print(x_test)"
   ]
  },
  {
   "cell_type": "code",
   "execution_count": null,
   "metadata": {},
   "outputs": [
    {
     "name": "stdout",
     "output_type": "stream",
     "text": [
      "[ 9364   395 14109 ... 14068 11877  7644]\n"
     ]
    }
   ],
   "source": [
    "print(y_train)"
   ]
  },
  {
   "cell_type": "code",
   "execution_count": null,
   "metadata": {},
   "outputs": [
    {
     "name": "stdout",
     "output_type": "stream",
     "text": [
      "[10552 11756 10696 ... 14363  3249   219]\n"
     ]
    }
   ],
   "source": [
    "print(y_test)"
   ]
  },
  {
   "cell_type": "code",
   "execution_count": 39,
   "metadata": {},
   "outputs": [
    {
     "name": "stderr",
     "output_type": "stream",
     "text": [
      "c:\\Users\\Dewandra R\\anaconda3\\lib\\site-packages\\pandas\\core\\algorithms.py:798: FutureWarning: In a future version, the Index constructor will not infer numeric dtypes when passed object-dtype sequences (matching Series behavior)\n",
      "  uniques = Index(uniques)\n"
     ]
    }
   ],
   "source": [
    "import pandas as pd\n",
    "\n",
    "# Mengambil kolom dengan data string\n",
    "categorical_cols = [3]\n",
    "x_train_categorical = x_train[:, categorical_cols]\n",
    "x_test_categorical = x_test[:, categorical_cols]\n",
    "\n",
    "# Melakukan One-Hot Encoding pada data string\n",
    "ohe = pd.get_dummies(pd.concat([pd.DataFrame(x_train_categorical), pd.DataFrame(x_test_categorical)]))\n",
    "x_train_ohe = ohe[:len(x_train_categorical)]\n",
    "x_test_ohe = ohe[len(x_train_categorical):]\n",
    "\n",
    "# Menggabungkan kembali data numerik dengan hasil One-Hot Encoding\n",
    "x_train_processed = np.hstack((x_train[:, :3], x_train_ohe.values, x_train[:, 4:]))\n",
    "x_test_processed = np.hstack((x_test[:, :3], x_test_ohe.values, x_test[:, 4:]))\n"
   ]
  },
  {
   "cell_type": "code",
   "execution_count": 41,
   "metadata": {},
   "outputs": [
    {
     "name": "stdout",
     "output_type": "stream",
     "text": [
      "[[0.0 0.0 0 ... 48484 1887 46786]\n",
      " [0.0 0.0 0 ... 6289 0 5964]\n",
      " [0.0 0.0 0 ... 31789 1539 29784]\n",
      " ...\n",
      " [0.0 0.0 0 ... 7853 888 4668]\n",
      " [0.0 0.0 0 ... 129595 1749 129486]\n",
      " [0.0 0.0 0 ... 3986 1484 1222]]\n"
     ]
    }
   ],
   "source": [
    "\n",
    "print(x_train)"
   ]
  },
  {
   "cell_type": "code",
   "execution_count": 42,
   "metadata": {},
   "outputs": [
    {
     "name": "stdout",
     "output_type": "stream",
     "text": [
      "[[0.0 0.0 0 ... 5241 545 1699]\n",
      " [0.0 0.0 0 ... 58713 846 58172]\n",
      " [0.0 0.0 0 ... 1636 636 1275]\n",
      " ...\n",
      " [0.0 0.0 0 ... 2082 499 810]\n",
      " [0.0 0.0 0 ... 24248 193 24055]\n",
      " [0.0 0.0 0 ... 39973 0 39973]]\n"
     ]
    }
   ],
   "source": [
    "print(x_test)"
   ]
  }
 ],
 "metadata": {
  "kernelspec": {
   "display_name": "base",
   "language": "python",
   "name": "python3"
  },
  "language_info": {
   "codemirror_mode": {
    "name": "ipython",
    "version": 3
   },
   "file_extension": ".py",
   "mimetype": "text/x-python",
   "name": "python",
   "nbconvert_exporter": "python",
   "pygments_lexer": "ipython3",
   "version": "3.9.13"
  },
  "orig_nbformat": 4
 },
 "nbformat": 4,
 "nbformat_minor": 2
}
